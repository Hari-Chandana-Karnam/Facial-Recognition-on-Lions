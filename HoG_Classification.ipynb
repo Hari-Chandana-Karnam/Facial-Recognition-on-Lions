{
  "nbformat": 4,
  "nbformat_minor": 0,
  "metadata": {
    "colab": {
      "name": "HoG_Classification.ipynb",
      "provenance": [],
      "collapsed_sections": [
        "iML3mBvN2qOC",
        "_nLZLggB5spp"
      ],
      "authorship_tag": "ABX9TyODGO2155v7pDo0lmoMQgxt",
      "include_colab_link": true
    },
    "kernelspec": {
      "display_name": "Python 3",
      "name": "python3"
    }
  },
  "cells": [
    {
      "cell_type": "markdown",
      "metadata": {
        "id": "view-in-github",
        "colab_type": "text"
      },
      "source": [
        "<a href=\"https://colab.research.google.com/github/Hari-Chandana-Karnam/Facial-Recognition-on-Lions/blob/main/HoG_Classification.ipynb\" target=\"_parent\"><img src=\"https://colab.research.google.com/assets/colab-badge.svg\" alt=\"Open In Colab\"/></a>"
      ]
    },
    {
      "cell_type": "markdown",
      "metadata": {
        "id": "e4fKyieONnRt"
      },
      "source": [
        "## Importing libraries"
      ]
    },
    {
      "cell_type": "code",
      "metadata": {
        "id": "c06Xc1De3ncW"
      },
      "source": [
        "import glob\n",
        "import cv2\n",
        "from google.colab.patches import cv2_imshow\n",
        "from skimage.feature import hog\n",
        "import numpy as np\n",
        "from sklearn.model_selection import train_test_split\n",
        "from sklearn.preprocessing import StandardScaler\n",
        "from sklearn.tree import DecisionTreeClassifier\n",
        "from sklearn.neighbors import KNeighborsClassifier\n",
        "from sklearn.naive_bayes import GaussianNB\n",
        "from sklearn import svm\n",
        "from sklearn.linear_model import LogisticRegression\n"
      ],
      "execution_count": null,
      "outputs": []
    },
    {
      "cell_type": "markdown",
      "metadata": {
        "id": "2uMse6n53AWK"
      },
      "source": [
        "## Data Import"
      ]
    },
    {
      "cell_type": "code",
      "metadata": {
        "colab": {
          "base_uri": "https://localhost:8080/"
        },
        "id": "PhTND7qWepqR",
        "outputId": "d5d3ccfe-3d66-44a8-d134-bdfffab93bc6"
      },
      "source": [
        "from google.colab import drive\n",
        "drive.mount('/content/drive')"
      ],
      "execution_count": null,
      "outputs": [
        {
          "output_type": "stream",
          "text": [
            "Mounted at /content/drive\n"
          ],
          "name": "stdout"
        }
      ]
    },
    {
      "cell_type": "code",
      "metadata": {
        "id": "e1SQKujjjGaN"
      },
      "source": [
        "df_female = []\n",
        "df_male = []\n",
        "df_female = glob.glob(\"drive/My Drive/dataset/Female/*.jpg\")\n",
        "df_male = glob.glob(\"drive/My Drive/dataset/Male/*.jpg\")"
      ],
      "execution_count": null,
      "outputs": []
    },
    {
      "cell_type": "markdown",
      "metadata": {
        "id": "ovgn8snI3Va-"
      },
      "source": [
        "## Data Preprocessing and Feature Extraction(HoG)"
      ]
    },
    {
      "cell_type": "code",
      "metadata": {
        "id": "8MU47eFXaAYS"
      },
      "source": [
        "images_output = []\n",
        "labels= []\n",
        "hog_features = []\n",
        "for img in df_male:\n",
        "  temp = cv2.imread(img)\n",
        "  img = cv2.resize(temp, (256 , 256)) #Resizing all the images consistently \n",
        "  img_gray = cv2.cvtColor(img, cv2.COLOR_BGR2GRAY) #Convert all images to grayscale\n",
        "  img_hist = cv2.equalizeHist(img_gray) # Histogram Equalization\n",
        "  fd, hog_image = hog(img_hist, orientations=9, pixels_per_cell=(8, 8),\n",
        "                \tcells_per_block=(2, 2), visualize=True) # Extracting HoG features\n",
        "  images_output.append(hog_image)\n",
        "  hog_features.append(fd)\n",
        "  labels.append(0) # Labeling the images\n",
        "for img in df_female:\n",
        "  temp = cv2.imread(img)\n",
        "  img = cv2.resize(temp, (256 , 256))\n",
        "  img_gray = cv2.cvtColor(img, cv2.COLOR_BGR2GRAY)\n",
        "  img_hist = cv2.equalizeHist(img_gray)\n",
        "  fd, hog_image = hog(img_hist, orientations=9, pixels_per_cell=(8, 8),\n",
        "                \tcells_per_block=(2, 2), visualize=True)\n",
        "  images_output.append(hog_image)\n",
        "  hog_features.append(fd)\n",
        "  labels.append(1)"
      ],
      "execution_count": null,
      "outputs": []
    },
    {
      "cell_type": "code",
      "metadata": {
        "colab": {
          "base_uri": "https://localhost:8080/"
        },
        "id": "DZohG2Nwy5xH",
        "outputId": "e0547752-60ff-4bec-f570-90e827eeee83"
      },
      "source": [
        "images_output = np.array(images_output)\n",
        "hog_features = np.array(hog_features)\n",
        "labels = np.array(labels)\n",
        "labels = labels.reshape(len(labels),1)\n",
        "print('Shape of input images: ',images_output.shape)\n",
        "print('Shape of input features: ',hog_features.shape)\n",
        "print('Shape of output:',labels.shape)"
      ],
      "execution_count": null,
      "outputs": [
        {
          "output_type": "stream",
          "text": [
            "Shape of input images:  (500, 256, 256)\n",
            "Shape of input features:  (500, 34596)\n",
            "Shape of output: (500, 1)\n"
          ],
          "name": "stdout"
        }
      ]
    },
    {
      "cell_type": "markdown",
      "metadata": {
        "id": "wpYY58CO3JKT"
      },
      "source": [
        "## Data Split (Train and Test)"
      ]
    },
    {
      "cell_type": "code",
      "metadata": {
        "id": "W1WpNBIwhw7r"
      },
      "source": [
        "X_train,X_test = train_test_split(hog_features,test_size=0.2,random_state=42)\n",
        "Y_train,Y_test=train_test_split(labels,test_size=0.2,random_state=42)\n",
        "X_train,X_val = train_test_split(X_train,test_size=0.2,random_state=42)# splitting the train data again into train and validation data\n",
        "Y_train,Y_val = train_test_split(Y_train,test_size=0.2,random_state=42)"
      ],
      "execution_count": null,
      "outputs": []
    },
    {
      "cell_type": "code",
      "metadata": {
        "colab": {
          "base_uri": "https://localhost:8080/"
        },
        "id": "282sXPzqlyHG",
        "outputId": "51c8638e-2d4c-475b-cc6d-8d92a74d27b9"
      },
      "source": [
        "print('X_train shape:', X_train.shape)\n",
        "print('X_val shape:',X_val.shape)\n",
        "print('X_test shape:', X_test.shape)\n",
        "print('Y_train shape:', Y_train.shape)\n",
        "print('Y_val shape:',Y_val.shape)\n",
        "print('Y_test shape:', Y_test.shape)"
      ],
      "execution_count": null,
      "outputs": [
        {
          "output_type": "stream",
          "text": [
            "X_train shape: (320, 34596)\n",
            "X_val shape: (80, 34596)\n",
            "X_test shape: (100, 34596)\n",
            "Y_train shape: (320, 1)\n",
            "Y_val shape: (80, 1)\n",
            "Y_test shape: (100, 1)\n"
          ],
          "name": "stdout"
        }
      ]
    },
    {
      "cell_type": "markdown",
      "metadata": {
        "id": "_nLZLggB5spp"
      },
      "source": [
        "## Decision Trees"
      ]
    },
    {
      "cell_type": "code",
      "metadata": {
        "id": "TEOFA2Kz5vOn",
        "colab": {
          "base_uri": "https://localhost:8080/",
          "height": 368
        },
        "outputId": "7ada2f86-ba77-48fd-ab13-fa193ccd56e8"
      },
      "source": [
        "\n",
        "dt = make_pipeline(StandardScaler(), DecisionTreeClassifier(criterion = \"entropy\", random_state = 100,max_depth=3, min_samples_leaf=5))\n",
        "dt.fit(X_train,Y_train)\n",
        "Y_pred_DT = dt.predict(X_test)\n",
        "print(\"accuracy: \",metrics.accuracy_score(Y_test, Y_pred_DT)*100)\n",
        "print(\"precision: \",metrics.precision_score(Y_test,Y_pred_DT,average='weighted', labels=np.unique(Y_pred_DT)))\n",
        "print(\"recall: \",metrics.recall_score(Y_test,Y_pred_DT,average='weighted', labels=np.unique(Y_pred_DT)))\n",
        "print(\"roc: \",metrics.roc_auc_score(Y_test,Y_pred_DT,average='weighted', labels=np.unique(Y_pred_DT)))\n",
        "print(\"f1 score: \",metrics.f1_score(Y_test, Y_pred_DT,average='weighted', labels=np.unique(Y_pred_DT)))\n",
        "plot_confusion_matrix(dt, X_test, Y_test)  \n",
        "plt.show()"
      ],
      "execution_count": null,
      "outputs": [
        {
          "output_type": "stream",
          "text": [
            "accuracy:  48.0\n",
            "precision:  0.5021205821205821\n",
            "recall:  0.48\n",
            "roc:  0.4991948470209339\n",
            "f1 score:  0.44966666666666666\n"
          ],
          "name": "stdout"
        },
        {
          "output_type": "display_data",
          "data": {
            "image/png": "[encoded data removed]",
            "text/plain": [
              "<Figure size 432x288 with 2 Axes>"
            ]
          },
          "metadata": {
            "tags": [],
            "needs_background": "light"
          }
        }
      ]
    },
    {
      "cell_type": "markdown",
      "metadata": {
        "id": "oxE4Pb6v69Lf"
      },
      "source": [
        "## KNN (K Nearest Neighbor)"
      ]
    },
    {
      "cell_type": "code",
      "metadata": {
        "id": "5o_s8ucW6syc",
        "colab": {
          "base_uri": "https://localhost:8080/",
          "height": 418
        },
        "outputId": "d37cd460-0da3-4374-d829-a22860e62b44"
      },
      "source": [
        "knn = make_pipeline(StandardScaler(), KNeighborsClassifier(n_neighbors=2))\n",
        "knn.fit(X_train,Y_train)\n",
        "Y_pred_KNN = knn.predict(X_test)\n",
        "print(\"accuracy: \",metrics.accuracy_score(Y_test, Y_pred_KNN)*100)\n",
        "print(\"precison: \",metrics.precision_score(Y_test,Y_pred_KNN,average='weighted', labels=np.unique(Y_pred_KNN)))\n",
        "print(\"recall: \",metrics.recall_score(Y_test,Y_pred_KNN,average='weighted', labels=np.unique(Y_pred_KNN)))\n",
        "print(\"roc: \",metrics.roc_auc_score(Y_test,Y_pred_KNN,average='weighted', labels=np.unique(Y_pred_KNN)))\n",
        "print(\"f1 score: \",metrics.f1_score(Y_test, Y_pred_KNN,average='weighted', labels=np.unique(Y_pred_KNN)))\n",
        "plot_confusion_matrix(knn, X_test, Y_test)  \n",
        "plt.show()"
      ],
      "execution_count": null,
      "outputs": [
        {
          "output_type": "stream",
          "text": [
            "/usr/local/lib/python3.7/dist-packages/sklearn/pipeline.py:354: DataConversionWarning: A column-vector y was passed when a 1d array was expected. Please change the shape of y to (n_samples, ), for example using ravel().\n",
            "  self._final_estimator.fit(Xt, y, **fit_params)\n"
          ],
          "name": "stderr"
        },
        {
          "output_type": "stream",
          "text": [
            "accuracy:  50.0\n",
            "precison:  0.625\n",
            "recall:  0.5\n",
            "roc:  0.533816425120773\n",
            "f1 score:  0.3978494623655914\n"
          ],
          "name": "stdout"
        },
        {
          "output_type": "display_data",
          "data": {
            "image/png": "[encoded data removed]",
            "text/plain": [
              "<Figure size 432x288 with 2 Axes>"
            ]
          },
          "metadata": {
            "tags": [],
            "needs_background": "light"
          }
        }
      ]
    },
    {
      "cell_type": "markdown",
      "metadata": {
        "id": "xmTV_qKlbEK1"
      },
      "source": [
        "## Naive Bayes"
      ]
    },
    {
      "cell_type": "code",
      "metadata": {
        "colab": {
          "base_uri": "https://localhost:8080/"
        },
        "id": "dVAQ9y4ebI4r",
        "outputId": "7657d659-30a4-4356-91ab-aac420617092"
      },
      "source": [
        "nb = make_pipeline(StandardScaler(), GaussianNB())\n",
        "nb.fit(X_train,Y_train)\n",
        "Y_pred_NB = nb.predict(X_test)\n",
        "print(\"accuracy: \",metrics.accuracy_score(Y_test, Y_pred_NB)*100)\n",
        "print(\"precison: \",metrics.precision_score(Y_test,Y_pred_NB))\n",
        "print(\"recall: \",metrics.recall_score(Y_test,Y_pred_NB))\n",
        "print(\"roc: \",metrics.roc_auc_score(Y_test,Y_pred_NB))\n",
        "print(\"f1 score: \",metrics.f1_score(Y_test, Y_pred_NB))\n",
        "plot_confusion_matrix(nb, X_test, Y_test)  \n",
        "plt.show()"
      ],
      "execution_count": null,
      "outputs": [
        {
          "output_type": "stream",
          "text": [
            "/usr/local/lib/python3.7/dist-packages/sklearn/naive_bayes.py:206: DataConversionWarning: A column-vector y was passed when a 1d array was expected. Please change the shape of y to (n_samples, ), for example using ravel().\n",
            "  y = column_or_1d(y, warn=True)\n"
          ],
          "name": "stderr"
        },
        {
          "output_type": "stream",
          "text": [
            "accuracy:  67.0\n",
            "precison:  0.7142857142857143\n",
            "recall:  0.6481481481481481\n",
            "roc:  0.6719001610305958\n",
            "f1 score:  0.6796116504854369\n"
          ],
          "name": "stdout"
        },
        {
          "output_type": "display_data",
          "data": {
            "image/png": "[encoded data removed]",
            "text/plain": [
              "<Figure size 432x288 with 2 Axes>"
            ]
          },
          "metadata": {
            "tags": [],
            "needs_background": "light"
          }
        }
      ]
    },
    {
      "cell_type": "markdown",
      "metadata": {
        "id": "E3jkjukCy0hG"
      },
      "source": [
        "## Logistic Regression"
      ]
    },
    {
      "cell_type": "code",
      "metadata": {
        "id": "9swel_-Ry6YA",
        "colab": {
          "base_uri": "https://localhost:8080/"
        },
        "outputId": "4f631b7f-21e2-4c30-d3e2-11bdaf70940f"
      },
      "source": [
        "lr = make_pipeline(StandardScaler(), LogisticRegression())\n",
        "lr.fit(X_train, Y_train)  # apply scaling on training data\n",
        "Y_pred_LR = lr.predict(X_test)\n",
        "print(\"accuracy: \",metrics.accuracy_score(Y_test, Y_pred_LR)*100)\n",
        "print(\"precison: \",metrics.precision_score(Y_test,Y_pred_LR,average='weighted', labels=np.unique(Y_pred_LR)))\n",
        "print(\"recall: \",metrics.recall_score(Y_test,Y_pred_LR,average='weighted', labels=np.unique(Y_pred_LR)))\n",
        "print(\"roc: \",metrics.roc_auc_score(Y_test,Y_pred_LR,average='weighted', labels=np.unique(Y_pred_LR)))\n",
        "print(\"f1 score: \",metrics.f1_score(Y_test, Y_pred_LR,average='weighted', labels=np.unique(Y_pred_LR)))\n",
        "plot_confusion_matrix(lr, X_test, Y_test)  \n",
        "plt.show()"
      ],
      "execution_count": null,
      "outputs": [
        {
          "output_type": "stream",
          "text": [
            "/usr/local/lib/python3.7/dist-packages/sklearn/utils/validation.py:760: DataConversionWarning: A column-vector y was passed when a 1d array was expected. Please change the shape of y to (n_samples, ), for example using ravel().\n",
            "  y = column_or_1d(y, warn=True)\n"
          ],
          "name": "stderr"
        },
        {
          "output_type": "stream",
          "text": [
            "accuracy:  75.0\n",
            "precison:  0.7545018007202882\n",
            "recall:  0.75\n",
            "roc:  0.7524154589371982\n",
            "f1 score:  0.7503753378040235\n"
          ],
          "name": "stdout"
        },
        {
          "output_type": "display_data",
          "data": {
            "image/png": "[encoded data removed]",
            "text/plain": [
              "<Figure size 432x288 with 2 Axes>"
            ]
          },
          "metadata": {
            "tags": [],
            "needs_background": "light"
          }
        }
      ]
    },
    {
      "cell_type": "markdown",
      "metadata": {
        "id": "iML3mBvN2qOC"
      },
      "source": [
        "\n",
        "## Support Vector Machine(SVM)"
      ]
    },
    {
      "cell_type": "code",
      "metadata": {
        "colab": {
          "base_uri": "https://localhost:8080/",
          "height": 418
        },
        "id": "bJJRol5fqbat",
        "outputId": "bf4f7bfa-fc92-4cc9-ef7a-c2bbaf64133d"
      },
      "source": [
        "clf = make_pipeline(StandardScaler(), svm.SVC(kernel='rbf'))\n",
        "clf.fit(X_train,Y_train)\n",
        "Y_pred_SVM = clf.predict(X_test)\n",
        "print(\"accuracy: \",metrics.accuracy_score(Y_test, Y_pred_SVM)*100)\n",
        "print(\"precison: \",metrics.precision_score(Y_test,Y_pred_SVM))\n",
        "print(\"recall: \",metrics.recall_score(Y_test,Y_pred_SVM))\n",
        "print(\"roc: \",metrics.roc_auc_score(Y_test,Y_pred_SVM))\n",
        "print(\"f1 score: \",metrics.f1_score(Y_test, Y_pred_SVM))\n",
        "plot_confusion_matrix(clf, X_test, Y_test)  \n",
        "plt.show()"
      ],
      "execution_count": null,
      "outputs": [
        {
          "output_type": "stream",
          "text": [
            "/usr/local/lib/python3.7/dist-packages/sklearn/utils/validation.py:760: DataConversionWarning: A column-vector y was passed when a 1d array was expected. Please change the shape of y to (n_samples, ), for example using ravel().\n",
            "  y = column_or_1d(y, warn=True)\n"
          ],
          "name": "stderr"
        },
        {
          "output_type": "stream",
          "text": [
            "accuracy:  75.0\n",
            "precison:  0.7457627118644068\n",
            "recall:  0.8148148148148148\n",
            "roc:  0.7443639291465379\n",
            "f1 score:  0.7787610619469028\n"
          ],
          "name": "stdout"
        },
        {
          "output_type": "display_data",
          "data": {
            "image/png": "[encoded data removed]",
            "text/plain": [
              "<Figure size 432x288 with 2 Axes>"
            ]
          },
          "metadata": {
            "tags": [],
            "needs_background": "light"
          }
        }
      ]
    },
    {
      "cell_type": "markdown",
      "metadata": {
        "id": "PAr73GrPAkG3"
      },
      "source": [
        "## ANN"
      ]
    },
    {
      "cell_type": "code",
      "metadata": {
        "id": "t45v0qIKz7Pu"
      },
      "source": [
        "\n",
        "\n",
        "\n",
        "# from tensorflow import keras\n",
        "# from tensorflow.keras import layers\n",
        "# from tensorflow.keras.models import Sequential\n",
        "# import tensorflow as tf\n",
        "from sklearn import metrics\n",
        "import matplotlib.pyplot as plt\n",
        "from sklearn.metrics import plot_confusion_matrix"
      ],
      "execution_count": null,
      "outputs": []
    },
    {
      "cell_type": "code",
      "metadata": {
        "colab": {
          "base_uri": "https://localhost:8080/"
        },
        "id": "M08R2v-EAjyC",
        "outputId": "903b67df-02b3-4419-c9a2-5274602f59c6"
      },
      "source": [
        "model_ann = Sequential()\n",
        "model_ann.add(layers.Dense(64, activation = 'relu', input_shape=X_train.shape[1:]))\n",
        "model_ann.add(layers.Dense(64, activation='relu'))\n",
        "model_ann.add(layers.Dense(1, activation='sigmoid'))\n",
        "model_ann.compile(loss='binary_crossentropy', optimizer='adam', metrics=['accuracy'])\n",
        "model_ann.summary()\n",
        "history = model_ann.fit(X_train, Y_train, epochs=300, validation_data=(X_val, Y_val))"
      ],
      "execution_count": null,
      "outputs": [
        {
          "output_type": "stream",
          "text": [
            "Model: \"sequential_1\"\n",
            "_________________________________________________________________\n",
            "Layer (type)                 Output Shape              Param #   \n",
            "=================================================================\n",
            "dense_3 (Dense)              (None, 64)                2214208   \n",
            "_________________________________________________________________\n",
            "dense_4 (Dense)              (None, 64)                4160      \n",
            "_________________________________________________________________\n",
            "dense_5 (Dense)              (None, 1)                 65        \n",
            "=================================================================\n",
            "Total params: 2,218,433\n",
            "Trainable params: 2,218,433\n",
            "Non-trainable params: 0\n",
            "_________________________________________________________________\n",
            "Epoch 1/300\n",
            "10/10 [==============================] - 1s 44ms/step - loss: 1.1255 - accuracy: 0.5038 - val_loss: 0.7246 - val_accuracy: 0.5125\n",
            "Epoch 2/300\n",
            "10/10 [==============================] - 0s 25ms/step - loss: 0.7201 - accuracy: 0.5811 - val_loss: 0.7209 - val_accuracy: 0.5125\n",
            "Epoch 3/300\n",
            "10/10 [==============================] - 0s 25ms/step - loss: 0.6239 - accuracy: 0.5925 - val_loss: 0.8181 - val_accuracy: 0.5000\n",
            "Epoch 4/300\n",
            "10/10 [==============================] - 0s 25ms/step - loss: 0.6162 - accuracy: 0.5982 - val_loss: 0.6291 - val_accuracy: 0.6875\n",
            "Epoch 5/300\n",
            "10/10 [==============================] - 0s 24ms/step - loss: 0.5413 - accuracy: 0.7286 - val_loss: 0.6672 - val_accuracy: 0.6250\n",
            "Epoch 6/300\n",
            "10/10 [==============================] - 0s 24ms/step - loss: 0.5121 - accuracy: 0.7372 - val_loss: 0.7396 - val_accuracy: 0.5000\n",
            "Epoch 7/300\n",
            "10/10 [==============================] - 0s 23ms/step - loss: 0.4598 - accuracy: 0.7538 - val_loss: 0.5881 - val_accuracy: 0.7000\n",
            "Epoch 8/300\n",
            "10/10 [==============================] - 0s 25ms/step - loss: 0.3461 - accuracy: 0.9002 - val_loss: 0.5957 - val_accuracy: 0.7125\n",
            "Epoch 9/300\n",
            "10/10 [==============================] - 0s 24ms/step - loss: 0.2809 - accuracy: 0.9599 - val_loss: 0.5790 - val_accuracy: 0.7125\n",
            "Epoch 10/300\n",
            "10/10 [==============================] - 0s 25ms/step - loss: 0.2553 - accuracy: 0.9740 - val_loss: 0.5887 - val_accuracy: 0.7250\n",
            "Epoch 11/300\n",
            "10/10 [==============================] - 0s 25ms/step - loss: 0.2130 - accuracy: 0.9845 - val_loss: 0.5670 - val_accuracy: 0.7250\n",
            "Epoch 12/300\n",
            "10/10 [==============================] - 0s 24ms/step - loss: 0.1737 - accuracy: 0.9972 - val_loss: 0.6079 - val_accuracy: 0.6875\n",
            "Epoch 13/300\n",
            "10/10 [==============================] - 0s 25ms/step - loss: 0.1764 - accuracy: 0.9805 - val_loss: 0.6075 - val_accuracy: 0.7250\n",
            "Epoch 14/300\n",
            "10/10 [==============================] - 0s 29ms/step - loss: 0.1305 - accuracy: 0.9916 - val_loss: 0.5908 - val_accuracy: 0.7125\n",
            "Epoch 15/300\n",
            "10/10 [==============================] - 0s 27ms/step - loss: 0.0973 - accuracy: 1.0000 - val_loss: 0.6630 - val_accuracy: 0.7125\n",
            "Epoch 16/300\n",
            "10/10 [==============================] - 0s 25ms/step - loss: 0.0933 - accuracy: 1.0000 - val_loss: 0.6185 - val_accuracy: 0.7000\n",
            "Epoch 17/300\n",
            "10/10 [==============================] - 0s 25ms/step - loss: 0.0718 - accuracy: 1.0000 - val_loss: 0.5996 - val_accuracy: 0.7375\n",
            "Epoch 18/300\n",
            "10/10 [==============================] - 0s 27ms/step - loss: 0.0550 - accuracy: 1.0000 - val_loss: 0.6164 - val_accuracy: 0.7500\n",
            "Epoch 19/300\n",
            "10/10 [==============================] - 0s 24ms/step - loss: 0.0453 - accuracy: 1.0000 - val_loss: 0.6176 - val_accuracy: 0.7375\n",
            "Epoch 20/300\n",
            "10/10 [==============================] - 0s 26ms/step - loss: 0.0362 - accuracy: 1.0000 - val_loss: 0.6261 - val_accuracy: 0.7375\n",
            "Epoch 21/300\n",
            "10/10 [==============================] - 0s 25ms/step - loss: 0.0323 - accuracy: 1.0000 - val_loss: 0.6335 - val_accuracy: 0.7500\n",
            "Epoch 22/300\n",
            "10/10 [==============================] - 0s 27ms/step - loss: 0.0252 - accuracy: 1.0000 - val_loss: 0.6440 - val_accuracy: 0.7375\n",
            "Epoch 23/300\n",
            "10/10 [==============================] - 0s 26ms/step - loss: 0.0253 - accuracy: 1.0000 - val_loss: 0.6533 - val_accuracy: 0.7250\n",
            "Epoch 24/300\n",
            "10/10 [==============================] - 0s 25ms/step - loss: 0.0215 - accuracy: 1.0000 - val_loss: 0.6588 - val_accuracy: 0.7500\n",
            "Epoch 25/300\n",
            "10/10 [==============================] - 0s 26ms/step - loss: 0.0191 - accuracy: 1.0000 - val_loss: 0.7170 - val_accuracy: 0.7250\n",
            "Epoch 26/300\n",
            "10/10 [==============================] - 0s 26ms/step - loss: 0.0195 - accuracy: 1.0000 - val_loss: 0.7110 - val_accuracy: 0.7250\n",
            "Epoch 27/300\n",
            "10/10 [==============================] - 0s 26ms/step - loss: 0.0185 - accuracy: 1.0000 - val_loss: 0.7119 - val_accuracy: 0.7250\n",
            "Epoch 28/300\n",
            "10/10 [==============================] - 0s 28ms/step - loss: 0.0163 - accuracy: 1.0000 - val_loss: 0.6881 - val_accuracy: 0.7625\n",
            "Epoch 29/300\n",
            "10/10 [==============================] - 0s 25ms/step - loss: 0.0120 - accuracy: 1.0000 - val_loss: 0.6931 - val_accuracy: 0.7500\n",
            "Epoch 30/300\n",
            "10/10 [==============================] - 0s 26ms/step - loss: 0.0120 - accuracy: 1.0000 - val_loss: 0.7005 - val_accuracy: 0.7375\n",
            "Epoch 31/300\n",
            "10/10 [==============================] - 0s 26ms/step - loss: 0.0103 - accuracy: 1.0000 - val_loss: 0.7073 - val_accuracy: 0.7375\n",
            "Epoch 32/300\n",
            "10/10 [==============================] - 0s 25ms/step - loss: 0.0097 - accuracy: 1.0000 - val_loss: 0.7136 - val_accuracy: 0.7375\n",
            "Epoch 33/300\n",
            "10/10 [==============================] - 0s 24ms/step - loss: 0.0088 - accuracy: 1.0000 - val_loss: 0.7334 - val_accuracy: 0.7250\n",
            "Epoch 34/300\n",
            "10/10 [==============================] - 0s 26ms/step - loss: 0.0082 - accuracy: 1.0000 - val_loss: 0.7242 - val_accuracy: 0.7500\n",
            "Epoch 35/300\n",
            "10/10 [==============================] - 0s 25ms/step - loss: 0.0075 - accuracy: 1.0000 - val_loss: 0.7439 - val_accuracy: 0.7250\n",
            "Epoch 36/300\n",
            "10/10 [==============================] - 0s 25ms/step - loss: 0.0075 - accuracy: 1.0000 - val_loss: 0.7415 - val_accuracy: 0.7375\n",
            "Epoch 37/300\n",
            "10/10 [==============================] - 0s 24ms/step - loss: 0.0065 - accuracy: 1.0000 - val_loss: 0.7425 - val_accuracy: 0.7500\n",
            "Epoch 38/300\n",
            "10/10 [==============================] - 0s 26ms/step - loss: 0.0060 - accuracy: 1.0000 - val_loss: 0.7464 - val_accuracy: 0.7375\n",
            "Epoch 39/300\n",
            "10/10 [==============================] - 0s 25ms/step - loss: 0.0060 - accuracy: 1.0000 - val_loss: 0.7691 - val_accuracy: 0.7250\n",
            "Epoch 40/300\n",
            "10/10 [==============================] - 0s 25ms/step - loss: 0.0060 - accuracy: 1.0000 - val_loss: 0.7614 - val_accuracy: 0.7375\n",
            "Epoch 41/300\n",
            "10/10 [==============================] - 0s 27ms/step - loss: 0.0055 - accuracy: 1.0000 - val_loss: 0.7628 - val_accuracy: 0.7500\n",
            "Epoch 42/300\n",
            "10/10 [==============================] - 0s 27ms/step - loss: 0.0047 - accuracy: 1.0000 - val_loss: 0.7664 - val_accuracy: 0.7375\n",
            "Epoch 43/300\n",
            "10/10 [==============================] - 0s 27ms/step - loss: 0.0048 - accuracy: 1.0000 - val_loss: 0.7720 - val_accuracy: 0.7500\n",
            "Epoch 44/300\n",
            "10/10 [==============================] - 0s 26ms/step - loss: 0.0043 - accuracy: 1.0000 - val_loss: 0.7801 - val_accuracy: 0.7500\n",
            "Epoch 45/300\n",
            "10/10 [==============================] - 0s 25ms/step - loss: 0.0043 - accuracy: 1.0000 - val_loss: 0.7810 - val_accuracy: 0.7375\n",
            "Epoch 46/300\n",
            "10/10 [==============================] - 0s 27ms/step - loss: 0.0037 - accuracy: 1.0000 - val_loss: 0.7901 - val_accuracy: 0.7375\n",
            "Epoch 47/300\n",
            "10/10 [==============================] - 0s 26ms/step - loss: 0.0037 - accuracy: 1.0000 - val_loss: 0.7899 - val_accuracy: 0.7625\n",
            "Epoch 48/300\n",
            "10/10 [==============================] - 0s 25ms/step - loss: 0.0035 - accuracy: 1.0000 - val_loss: 0.7941 - val_accuracy: 0.7625\n",
            "Epoch 49/300\n",
            "10/10 [==============================] - 0s 25ms/step - loss: 0.0033 - accuracy: 1.0000 - val_loss: 0.7971 - val_accuracy: 0.7500\n",
            "Epoch 50/300\n",
            "10/10 [==============================] - 0s 27ms/step - loss: 0.0030 - accuracy: 1.0000 - val_loss: 0.8016 - val_accuracy: 0.7500\n",
            "Epoch 51/300\n",
            "10/10 [==============================] - 0s 27ms/step - loss: 0.0032 - accuracy: 1.0000 - val_loss: 0.8047 - val_accuracy: 0.7500\n",
            "Epoch 52/300\n",
            "10/10 [==============================] - 0s 26ms/step - loss: 0.0031 - accuracy: 1.0000 - val_loss: 0.8082 - val_accuracy: 0.7375\n",
            "Epoch 53/300\n",
            "10/10 [==============================] - 0s 26ms/step - loss: 0.0028 - accuracy: 1.0000 - val_loss: 0.8177 - val_accuracy: 0.7500\n",
            "Epoch 54/300\n",
            "10/10 [==============================] - 0s 26ms/step - loss: 0.0025 - accuracy: 1.0000 - val_loss: 0.8288 - val_accuracy: 0.7375\n",
            "Epoch 55/300\n",
            "10/10 [==============================] - 0s 26ms/step - loss: 0.0023 - accuracy: 1.0000 - val_loss: 0.8418 - val_accuracy: 0.7625\n",
            "Epoch 56/300\n",
            "10/10 [==============================] - 0s 27ms/step - loss: 0.0020 - accuracy: 1.0000 - val_loss: 0.8575 - val_accuracy: 0.7375\n",
            "Epoch 57/300\n",
            "10/10 [==============================] - 0s 27ms/step - loss: 0.0017 - accuracy: 1.0000 - val_loss: 0.8774 - val_accuracy: 0.7500\n",
            "Epoch 58/300\n",
            "10/10 [==============================] - 0s 27ms/step - loss: 0.0013 - accuracy: 1.0000 - val_loss: 0.8974 - val_accuracy: 0.7500\n",
            "Epoch 59/300\n",
            "10/10 [==============================] - 0s 26ms/step - loss: 0.0011 - accuracy: 1.0000 - val_loss: 0.9171 - val_accuracy: 0.7625\n",
            "Epoch 60/300\n",
            "10/10 [==============================] - 0s 28ms/step - loss: 8.8365e-04 - accuracy: 1.0000 - val_loss: 0.9367 - val_accuracy: 0.7375\n",
            "Epoch 61/300\n",
            "10/10 [==============================] - 0s 28ms/step - loss: 7.5772e-04 - accuracy: 1.0000 - val_loss: 0.9537 - val_accuracy: 0.7375\n",
            "Epoch 62/300\n",
            "10/10 [==============================] - 0s 28ms/step - loss: 6.4368e-04 - accuracy: 1.0000 - val_loss: 0.9704 - val_accuracy: 0.7375\n",
            "Epoch 63/300\n",
            "10/10 [==============================] - 0s 27ms/step - loss: 5.8891e-04 - accuracy: 1.0000 - val_loss: 0.9859 - val_accuracy: 0.7500\n",
            "Epoch 64/300\n",
            "10/10 [==============================] - 0s 24ms/step - loss: 4.6180e-04 - accuracy: 1.0000 - val_loss: 1.0000 - val_accuracy: 0.7375\n",
            "Epoch 65/300\n",
            "10/10 [==============================] - 0s 26ms/step - loss: 4.2088e-04 - accuracy: 1.0000 - val_loss: 1.0132 - val_accuracy: 0.7375\n",
            "Epoch 66/300\n",
            "10/10 [==============================] - 0s 26ms/step - loss: 3.5733e-04 - accuracy: 1.0000 - val_loss: 1.0258 - val_accuracy: 0.7500\n",
            "Epoch 67/300\n",
            "10/10 [==============================] - 0s 27ms/step - loss: 3.3754e-04 - accuracy: 1.0000 - val_loss: 1.0371 - val_accuracy: 0.7500\n",
            "Epoch 68/300\n",
            "10/10 [==============================] - 0s 27ms/step - loss: 3.0976e-04 - accuracy: 1.0000 - val_loss: 1.0483 - val_accuracy: 0.7500\n",
            "Epoch 69/300\n",
            "10/10 [==============================] - 0s 27ms/step - loss: 3.0324e-04 - accuracy: 1.0000 - val_loss: 1.0581 - val_accuracy: 0.7500\n",
            "Epoch 70/300\n",
            "10/10 [==============================] - 0s 27ms/step - loss: 2.6309e-04 - accuracy: 1.0000 - val_loss: 1.0677 - val_accuracy: 0.7375\n",
            "Epoch 71/300\n",
            "10/10 [==============================] - 0s 26ms/step - loss: 2.5142e-04 - accuracy: 1.0000 - val_loss: 1.0771 - val_accuracy: 0.7375\n",
            "Epoch 72/300\n",
            "10/10 [==============================] - 0s 28ms/step - loss: 2.3980e-04 - accuracy: 1.0000 - val_loss: 1.0850 - val_accuracy: 0.7500\n",
            "Epoch 73/300\n",
            "10/10 [==============================] - 0s 27ms/step - loss: 2.0153e-04 - accuracy: 1.0000 - val_loss: 1.0937 - val_accuracy: 0.7375\n",
            "Epoch 74/300\n",
            "10/10 [==============================] - 0s 29ms/step - loss: 2.1326e-04 - accuracy: 1.0000 - val_loss: 1.1012 - val_accuracy: 0.7375\n",
            "Epoch 75/300\n",
            "10/10 [==============================] - 0s 26ms/step - loss: 1.8095e-04 - accuracy: 1.0000 - val_loss: 1.1085 - val_accuracy: 0.7500\n",
            "Epoch 76/300\n",
            "10/10 [==============================] - 0s 27ms/step - loss: 1.5829e-04 - accuracy: 1.0000 - val_loss: 1.1159 - val_accuracy: 0.7375\n",
            "Epoch 77/300\n",
            "10/10 [==============================] - 0s 26ms/step - loss: 1.5643e-04 - accuracy: 1.0000 - val_loss: 1.1232 - val_accuracy: 0.7375\n",
            "Epoch 78/300\n",
            "10/10 [==============================] - 0s 28ms/step - loss: 1.5182e-04 - accuracy: 1.0000 - val_loss: 1.1294 - val_accuracy: 0.7500\n",
            "Epoch 79/300\n",
            "10/10 [==============================] - 0s 26ms/step - loss: 1.5858e-04 - accuracy: 1.0000 - val_loss: 1.1363 - val_accuracy: 0.7375\n",
            "Epoch 80/300\n",
            "10/10 [==============================] - 0s 28ms/step - loss: 1.3874e-04 - accuracy: 1.0000 - val_loss: 1.1417 - val_accuracy: 0.7500\n",
            "Epoch 81/300\n",
            "10/10 [==============================] - 0s 29ms/step - loss: 1.4197e-04 - accuracy: 1.0000 - val_loss: 1.1486 - val_accuracy: 0.7375\n",
            "Epoch 82/300\n",
            "10/10 [==============================] - 0s 27ms/step - loss: 1.5086e-04 - accuracy: 1.0000 - val_loss: 1.1539 - val_accuracy: 0.7500\n",
            "Epoch 83/300\n",
            "10/10 [==============================] - 0s 25ms/step - loss: 1.1109e-04 - accuracy: 1.0000 - val_loss: 1.1597 - val_accuracy: 0.7375\n",
            "Epoch 84/300\n",
            "10/10 [==============================] - 0s 26ms/step - loss: 1.0917e-04 - accuracy: 1.0000 - val_loss: 1.1646 - val_accuracy: 0.7500\n",
            "Epoch 85/300\n",
            "10/10 [==============================] - 0s 27ms/step - loss: 1.1674e-04 - accuracy: 1.0000 - val_loss: 1.1701 - val_accuracy: 0.7500\n",
            "Epoch 86/300\n",
            "10/10 [==============================] - 0s 26ms/step - loss: 1.0583e-04 - accuracy: 1.0000 - val_loss: 1.1753 - val_accuracy: 0.7500\n",
            "Epoch 87/300\n",
            "10/10 [==============================] - 0s 25ms/step - loss: 8.7702e-05 - accuracy: 1.0000 - val_loss: 1.1805 - val_accuracy: 0.7500\n",
            "Epoch 88/300\n",
            "10/10 [==============================] - 0s 27ms/step - loss: 1.0346e-04 - accuracy: 1.0000 - val_loss: 1.1848 - val_accuracy: 0.7500\n",
            "Epoch 89/300\n",
            "10/10 [==============================] - 0s 26ms/step - loss: 7.9356e-05 - accuracy: 1.0000 - val_loss: 1.1901 - val_accuracy: 0.7500\n",
            "Epoch 90/300\n",
            "10/10 [==============================] - 0s 26ms/step - loss: 9.3541e-05 - accuracy: 1.0000 - val_loss: 1.1946 - val_accuracy: 0.7500\n",
            "Epoch 91/300\n",
            "10/10 [==============================] - 0s 25ms/step - loss: 9.0117e-05 - accuracy: 1.0000 - val_loss: 1.1988 - val_accuracy: 0.7500\n",
            "Epoch 92/300\n",
            "10/10 [==============================] - 0s 27ms/step - loss: 7.6375e-05 - accuracy: 1.0000 - val_loss: 1.2039 - val_accuracy: 0.7500\n",
            "Epoch 93/300\n",
            "10/10 [==============================] - 0s 26ms/step - loss: 7.6975e-05 - accuracy: 1.0000 - val_loss: 1.2079 - val_accuracy: 0.7500\n",
            "Epoch 94/300\n",
            "10/10 [==============================] - 0s 25ms/step - loss: 8.3365e-05 - accuracy: 1.0000 - val_loss: 1.2117 - val_accuracy: 0.7500\n",
            "Epoch 95/300\n",
            "10/10 [==============================] - 0s 26ms/step - loss: 8.2050e-05 - accuracy: 1.0000 - val_loss: 1.2165 - val_accuracy: 0.7500\n",
            "Epoch 96/300\n",
            "10/10 [==============================] - 0s 26ms/step - loss: 6.3821e-05 - accuracy: 1.0000 - val_loss: 1.2211 - val_accuracy: 0.7500\n",
            "Epoch 97/300\n",
            "10/10 [==============================] - 0s 26ms/step - loss: 8.0139e-05 - accuracy: 1.0000 - val_loss: 1.2241 - val_accuracy: 0.7500\n",
            "Epoch 98/300\n",
            "10/10 [==============================] - 0s 25ms/step - loss: 6.2871e-05 - accuracy: 1.0000 - val_loss: 1.2284 - val_accuracy: 0.7500\n",
            "Epoch 99/300\n",
            "10/10 [==============================] - 0s 26ms/step - loss: 6.3010e-05 - accuracy: 1.0000 - val_loss: 1.2321 - val_accuracy: 0.7500\n",
            "Epoch 100/300\n",
            "10/10 [==============================] - 0s 25ms/step - loss: 5.8901e-05 - accuracy: 1.0000 - val_loss: 1.2360 - val_accuracy: 0.7500\n",
            "Epoch 101/300\n",
            "10/10 [==============================] - 0s 26ms/step - loss: 6.1358e-05 - accuracy: 1.0000 - val_loss: 1.2394 - val_accuracy: 0.7500\n",
            "Epoch 102/300\n",
            "10/10 [==============================] - 0s 26ms/step - loss: 6.0878e-05 - accuracy: 1.0000 - val_loss: 1.2433 - val_accuracy: 0.7500\n",
            "Epoch 103/300\n",
            "10/10 [==============================] - 0s 25ms/step - loss: 5.8380e-05 - accuracy: 1.0000 - val_loss: 1.2470 - val_accuracy: 0.7500\n",
            "Epoch 104/300\n",
            "10/10 [==============================] - 0s 27ms/step - loss: 5.3082e-05 - accuracy: 1.0000 - val_loss: 1.2502 - val_accuracy: 0.7500\n",
            "Epoch 105/300\n",
            "10/10 [==============================] - 0s 27ms/step - loss: 5.8796e-05 - accuracy: 1.0000 - val_loss: 1.2537 - val_accuracy: 0.7500\n",
            "Epoch 106/300\n",
            "10/10 [==============================] - 0s 26ms/step - loss: 4.7159e-05 - accuracy: 1.0000 - val_loss: 1.2573 - val_accuracy: 0.7500\n",
            "Epoch 107/300\n",
            "10/10 [==============================] - 0s 26ms/step - loss: 5.3160e-05 - accuracy: 1.0000 - val_loss: 1.2602 - val_accuracy: 0.7500\n",
            "Epoch 108/300\n",
            "10/10 [==============================] - 0s 26ms/step - loss: 4.7405e-05 - accuracy: 1.0000 - val_loss: 1.2636 - val_accuracy: 0.7500\n",
            "Epoch 109/300\n",
            "10/10 [==============================] - 0s 26ms/step - loss: 5.0283e-05 - accuracy: 1.0000 - val_loss: 1.2671 - val_accuracy: 0.7500\n",
            "Epoch 110/300\n",
            "10/10 [==============================] - 0s 25ms/step - loss: 5.1022e-05 - accuracy: 1.0000 - val_loss: 1.2699 - val_accuracy: 0.7500\n",
            "Epoch 111/300\n",
            "10/10 [==============================] - 0s 27ms/step - loss: 5.1002e-05 - accuracy: 1.0000 - val_loss: 1.2733 - val_accuracy: 0.7500\n",
            "Epoch 112/300\n",
            "10/10 [==============================] - 0s 26ms/step - loss: 5.2153e-05 - accuracy: 1.0000 - val_loss: 1.2761 - val_accuracy: 0.7500\n",
            "Epoch 113/300\n",
            "10/10 [==============================] - 0s 26ms/step - loss: 4.3404e-05 - accuracy: 1.0000 - val_loss: 1.2793 - val_accuracy: 0.7500\n",
            "Epoch 114/300\n",
            "10/10 [==============================] - 0s 26ms/step - loss: 4.4591e-05 - accuracy: 1.0000 - val_loss: 1.2822 - val_accuracy: 0.7500\n",
            "Epoch 115/300\n",
            "10/10 [==============================] - 0s 27ms/step - loss: 4.4760e-05 - accuracy: 1.0000 - val_loss: 1.2852 - val_accuracy: 0.7500\n",
            "Epoch 116/300\n",
            "10/10 [==============================] - 0s 25ms/step - loss: 4.0333e-05 - accuracy: 1.0000 - val_loss: 1.2880 - val_accuracy: 0.7500\n",
            "Epoch 117/300\n",
            "10/10 [==============================] - 0s 27ms/step - loss: 4.3929e-05 - accuracy: 1.0000 - val_loss: 1.2907 - val_accuracy: 0.7500\n",
            "Epoch 118/300\n",
            "10/10 [==============================] - 0s 27ms/step - loss: 4.2074e-05 - accuracy: 1.0000 - val_loss: 1.2936 - val_accuracy: 0.7500\n",
            "Epoch 119/300\n",
            "10/10 [==============================] - 0s 28ms/step - loss: 3.5720e-05 - accuracy: 1.0000 - val_loss: 1.2963 - val_accuracy: 0.7500\n",
            "Epoch 120/300\n",
            "10/10 [==============================] - 0s 26ms/step - loss: 3.7619e-05 - accuracy: 1.0000 - val_loss: 1.2992 - val_accuracy: 0.7500\n",
            "Epoch 121/300\n",
            "10/10 [==============================] - 0s 26ms/step - loss: 3.4380e-05 - accuracy: 1.0000 - val_loss: 1.3021 - val_accuracy: 0.7500\n",
            "Epoch 122/300\n",
            "10/10 [==============================] - 0s 27ms/step - loss: 3.5837e-05 - accuracy: 1.0000 - val_loss: 1.3044 - val_accuracy: 0.7500\n",
            "Epoch 123/300\n",
            "10/10 [==============================] - 0s 28ms/step - loss: 3.2517e-05 - accuracy: 1.0000 - val_loss: 1.3071 - val_accuracy: 0.7500\n",
            "Epoch 124/300\n",
            "10/10 [==============================] - 0s 26ms/step - loss: 3.4211e-05 - accuracy: 1.0000 - val_loss: 1.3099 - val_accuracy: 0.7500\n",
            "Epoch 125/300\n",
            "10/10 [==============================] - 0s 26ms/step - loss: 3.6271e-05 - accuracy: 1.0000 - val_loss: 1.3126 - val_accuracy: 0.7500\n",
            "Epoch 126/300\n",
            "10/10 [==============================] - 0s 26ms/step - loss: 3.4214e-05 - accuracy: 1.0000 - val_loss: 1.3151 - val_accuracy: 0.7500\n",
            "Epoch 127/300\n",
            "10/10 [==============================] - 0s 27ms/step - loss: 2.8328e-05 - accuracy: 1.0000 - val_loss: 1.3175 - val_accuracy: 0.7500\n",
            "Epoch 128/300\n",
            "10/10 [==============================] - 0s 27ms/step - loss: 3.4898e-05 - accuracy: 1.0000 - val_loss: 1.3201 - val_accuracy: 0.7500\n",
            "Epoch 129/300\n",
            "10/10 [==============================] - 0s 26ms/step - loss: 3.7198e-05 - accuracy: 1.0000 - val_loss: 1.3225 - val_accuracy: 0.7500\n",
            "Epoch 130/300\n",
            "10/10 [==============================] - 0s 28ms/step - loss: 3.1387e-05 - accuracy: 1.0000 - val_loss: 1.3250 - val_accuracy: 0.7500\n",
            "Epoch 131/300\n",
            "10/10 [==============================] - 0s 27ms/step - loss: 3.0930e-05 - accuracy: 1.0000 - val_loss: 1.3274 - val_accuracy: 0.7500\n",
            "Epoch 132/300\n",
            "10/10 [==============================] - 0s 26ms/step - loss: 3.6388e-05 - accuracy: 1.0000 - val_loss: 1.3298 - val_accuracy: 0.7500\n",
            "Epoch 133/300\n",
            "10/10 [==============================] - 0s 26ms/step - loss: 2.6197e-05 - accuracy: 1.0000 - val_loss: 1.3322 - val_accuracy: 0.7500\n",
            "Epoch 134/300\n",
            "10/10 [==============================] - 0s 27ms/step - loss: 2.2828e-05 - accuracy: 1.0000 - val_loss: 1.3346 - val_accuracy: 0.7500\n",
            "Epoch 135/300\n",
            "10/10 [==============================] - 0s 26ms/step - loss: 3.1747e-05 - accuracy: 1.0000 - val_loss: 1.3370 - val_accuracy: 0.7500\n",
            "Epoch 136/300\n",
            "10/10 [==============================] - 0s 25ms/step - loss: 2.6216e-05 - accuracy: 1.0000 - val_loss: 1.3392 - val_accuracy: 0.7500\n",
            "Epoch 137/300\n",
            "10/10 [==============================] - 0s 26ms/step - loss: 2.8931e-05 - accuracy: 1.0000 - val_loss: 1.3416 - val_accuracy: 0.7500\n",
            "Epoch 138/300\n",
            "10/10 [==============================] - 0s 25ms/step - loss: 2.9183e-05 - accuracy: 1.0000 - val_loss: 1.3438 - val_accuracy: 0.7500\n",
            "Epoch 139/300\n",
            "10/10 [==============================] - 0s 28ms/step - loss: 2.8862e-05 - accuracy: 1.0000 - val_loss: 1.3461 - val_accuracy: 0.7500\n",
            "Epoch 140/300\n",
            "10/10 [==============================] - 0s 26ms/step - loss: 2.7702e-05 - accuracy: 1.0000 - val_loss: 1.3483 - val_accuracy: 0.7500\n",
            "Epoch 141/300\n",
            "10/10 [==============================] - 0s 25ms/step - loss: 2.7991e-05 - accuracy: 1.0000 - val_loss: 1.3505 - val_accuracy: 0.7500\n",
            "Epoch 142/300\n",
            "10/10 [==============================] - 0s 27ms/step - loss: 2.4361e-05 - accuracy: 1.0000 - val_loss: 1.3527 - val_accuracy: 0.7500\n",
            "Epoch 143/300\n",
            "10/10 [==============================] - 0s 27ms/step - loss: 2.5966e-05 - accuracy: 1.0000 - val_loss: 1.3549 - val_accuracy: 0.7500\n",
            "Epoch 144/300\n",
            "10/10 [==============================] - 0s 26ms/step - loss: 2.5005e-05 - accuracy: 1.0000 - val_loss: 1.3570 - val_accuracy: 0.7500\n",
            "Epoch 145/300\n",
            "10/10 [==============================] - 0s 27ms/step - loss: 2.3953e-05 - accuracy: 1.0000 - val_loss: 1.3592 - val_accuracy: 0.7500\n",
            "Epoch 146/300\n",
            "10/10 [==============================] - 0s 27ms/step - loss: 2.6148e-05 - accuracy: 1.0000 - val_loss: 1.3613 - val_accuracy: 0.7500\n",
            "Epoch 147/300\n",
            "10/10 [==============================] - 0s 27ms/step - loss: 2.7074e-05 - accuracy: 1.0000 - val_loss: 1.3634 - val_accuracy: 0.7500\n",
            "Epoch 148/300\n",
            "10/10 [==============================] - 0s 25ms/step - loss: 2.2721e-05 - accuracy: 1.0000 - val_loss: 1.3654 - val_accuracy: 0.7500\n",
            "Epoch 149/300\n",
            "10/10 [==============================] - 0s 26ms/step - loss: 2.0859e-05 - accuracy: 1.0000 - val_loss: 1.3675 - val_accuracy: 0.7625\n",
            "Epoch 150/300\n",
            "10/10 [==============================] - 0s 26ms/step - loss: 2.0397e-05 - accuracy: 1.0000 - val_loss: 1.3695 - val_accuracy: 0.7500\n",
            "Epoch 151/300\n",
            "10/10 [==============================] - 0s 25ms/step - loss: 1.9935e-05 - accuracy: 1.0000 - val_loss: 1.3716 - val_accuracy: 0.7500\n",
            "Epoch 152/300\n",
            "10/10 [==============================] - 0s 27ms/step - loss: 1.9574e-05 - accuracy: 1.0000 - val_loss: 1.3735 - val_accuracy: 0.7500\n",
            "Epoch 153/300\n",
            "10/10 [==============================] - 0s 26ms/step - loss: 1.6778e-05 - accuracy: 1.0000 - val_loss: 1.3755 - val_accuracy: 0.7500\n",
            "Epoch 154/300\n",
            "10/10 [==============================] - 0s 26ms/step - loss: 1.7147e-05 - accuracy: 1.0000 - val_loss: 1.3774 - val_accuracy: 0.7500\n",
            "Epoch 155/300\n",
            "10/10 [==============================] - 0s 26ms/step - loss: 1.9552e-05 - accuracy: 1.0000 - val_loss: 1.3793 - val_accuracy: 0.7625\n",
            "Epoch 156/300\n",
            "10/10 [==============================] - 0s 24ms/step - loss: 1.8543e-05 - accuracy: 1.0000 - val_loss: 1.3812 - val_accuracy: 0.7500\n",
            "Epoch 157/300\n",
            "10/10 [==============================] - 0s 25ms/step - loss: 2.1816e-05 - accuracy: 1.0000 - val_loss: 1.3832 - val_accuracy: 0.7500\n",
            "Epoch 158/300\n",
            "10/10 [==============================] - 0s 25ms/step - loss: 2.0650e-05 - accuracy: 1.0000 - val_loss: 1.3850 - val_accuracy: 0.7500\n",
            "Epoch 159/300\n",
            "10/10 [==============================] - 0s 25ms/step - loss: 2.0964e-05 - accuracy: 1.0000 - val_loss: 1.3870 - val_accuracy: 0.7500\n",
            "Epoch 160/300\n",
            "10/10 [==============================] - 0s 24ms/step - loss: 2.0042e-05 - accuracy: 1.0000 - val_loss: 1.3888 - val_accuracy: 0.7625\n",
            "Epoch 161/300\n",
            "10/10 [==============================] - 0s 26ms/step - loss: 1.8234e-05 - accuracy: 1.0000 - val_loss: 1.3906 - val_accuracy: 0.7625\n",
            "Epoch 162/300\n",
            "10/10 [==============================] - 0s 26ms/step - loss: 1.5867e-05 - accuracy: 1.0000 - val_loss: 1.3925 - val_accuracy: 0.7500\n",
            "Epoch 163/300\n",
            "10/10 [==============================] - 0s 26ms/step - loss: 1.8675e-05 - accuracy: 1.0000 - val_loss: 1.3943 - val_accuracy: 0.7625\n",
            "Epoch 164/300\n",
            "10/10 [==============================] - 0s 25ms/step - loss: 1.8226e-05 - accuracy: 1.0000 - val_loss: 1.3961 - val_accuracy: 0.7500\n",
            "Epoch 165/300\n",
            "10/10 [==============================] - 0s 25ms/step - loss: 1.4467e-05 - accuracy: 1.0000 - val_loss: 1.3979 - val_accuracy: 0.7500\n",
            "Epoch 166/300\n",
            "10/10 [==============================] - 0s 26ms/step - loss: 1.9228e-05 - accuracy: 1.0000 - val_loss: 1.3997 - val_accuracy: 0.7625\n",
            "Epoch 167/300\n",
            "10/10 [==============================] - 0s 27ms/step - loss: 1.5112e-05 - accuracy: 1.0000 - val_loss: 1.4015 - val_accuracy: 0.7500\n",
            "Epoch 168/300\n",
            "10/10 [==============================] - 0s 25ms/step - loss: 1.7066e-05 - accuracy: 1.0000 - val_loss: 1.4032 - val_accuracy: 0.7625\n",
            "Epoch 169/300\n",
            "10/10 [==============================] - 0s 25ms/step - loss: 2.0615e-05 - accuracy: 1.0000 - val_loss: 1.4050 - val_accuracy: 0.7500\n",
            "Epoch 170/300\n",
            "10/10 [==============================] - 0s 26ms/step - loss: 1.4913e-05 - accuracy: 1.0000 - val_loss: 1.4067 - val_accuracy: 0.7625\n",
            "Epoch 171/300\n",
            "10/10 [==============================] - 0s 25ms/step - loss: 1.3763e-05 - accuracy: 1.0000 - val_loss: 1.4085 - val_accuracy: 0.7625\n",
            "Epoch 172/300\n",
            "10/10 [==============================] - 0s 26ms/step - loss: 1.5968e-05 - accuracy: 1.0000 - val_loss: 1.4102 - val_accuracy: 0.7500\n",
            "Epoch 173/300\n",
            "10/10 [==============================] - 0s 26ms/step - loss: 1.7352e-05 - accuracy: 1.0000 - val_loss: 1.4119 - val_accuracy: 0.7500\n",
            "Epoch 174/300\n",
            "10/10 [==============================] - 0s 27ms/step - loss: 1.3973e-05 - accuracy: 1.0000 - val_loss: 1.4136 - val_accuracy: 0.7625\n",
            "Epoch 175/300\n",
            "10/10 [==============================] - 0s 26ms/step - loss: 1.3141e-05 - accuracy: 1.0000 - val_loss: 1.4153 - val_accuracy: 0.7500\n",
            "Epoch 176/300\n",
            "10/10 [==============================] - 0s 25ms/step - loss: 1.4977e-05 - accuracy: 1.0000 - val_loss: 1.4169 - val_accuracy: 0.7500\n",
            "Epoch 177/300\n",
            "10/10 [==============================] - 0s 25ms/step - loss: 1.7212e-05 - accuracy: 1.0000 - val_loss: 1.4186 - val_accuracy: 0.7625\n",
            "Epoch 178/300\n",
            "10/10 [==============================] - 0s 24ms/step - loss: 1.2596e-05 - accuracy: 1.0000 - val_loss: 1.4202 - val_accuracy: 0.7500\n",
            "Epoch 179/300\n",
            "10/10 [==============================] - 0s 25ms/step - loss: 1.4172e-05 - accuracy: 1.0000 - val_loss: 1.4218 - val_accuracy: 0.7500\n",
            "Epoch 180/300\n",
            "10/10 [==============================] - 0s 26ms/step - loss: 1.2674e-05 - accuracy: 1.0000 - val_loss: 1.4235 - val_accuracy: 0.7625\n",
            "Epoch 181/300\n",
            "10/10 [==============================] - 0s 27ms/step - loss: 1.4184e-05 - accuracy: 1.0000 - val_loss: 1.4251 - val_accuracy: 0.7625\n",
            "Epoch 182/300\n",
            "10/10 [==============================] - 0s 25ms/step - loss: 1.2282e-05 - accuracy: 1.0000 - val_loss: 1.4267 - val_accuracy: 0.7625\n",
            "Epoch 183/300\n",
            "10/10 [==============================] - 0s 27ms/step - loss: 1.2325e-05 - accuracy: 1.0000 - val_loss: 1.4283 - val_accuracy: 0.7625\n",
            "Epoch 184/300\n",
            "10/10 [==============================] - 0s 26ms/step - loss: 1.2888e-05 - accuracy: 1.0000 - val_loss: 1.4298 - val_accuracy: 0.7625\n",
            "Epoch 185/300\n",
            "10/10 [==============================] - 0s 25ms/step - loss: 1.5078e-05 - accuracy: 1.0000 - val_loss: 1.4314 - val_accuracy: 0.7625\n",
            "Epoch 186/300\n",
            "10/10 [==============================] - 0s 26ms/step - loss: 1.3791e-05 - accuracy: 1.0000 - val_loss: 1.4329 - val_accuracy: 0.7625\n",
            "Epoch 187/300\n",
            "10/10 [==============================] - 0s 26ms/step - loss: 1.0407e-05 - accuracy: 1.0000 - val_loss: 1.4345 - val_accuracy: 0.7625\n",
            "Epoch 188/300\n",
            "10/10 [==============================] - 0s 25ms/step - loss: 1.3197e-05 - accuracy: 1.0000 - val_loss: 1.4361 - val_accuracy: 0.7625\n",
            "Epoch 189/300\n",
            "10/10 [==============================] - 0s 25ms/step - loss: 1.0721e-05 - accuracy: 1.0000 - val_loss: 1.4376 - val_accuracy: 0.7625\n",
            "Epoch 190/300\n",
            "10/10 [==============================] - 0s 25ms/step - loss: 1.1999e-05 - accuracy: 1.0000 - val_loss: 1.4391 - val_accuracy: 0.7625\n",
            "Epoch 191/300\n",
            "10/10 [==============================] - 0s 26ms/step - loss: 1.2245e-05 - accuracy: 1.0000 - val_loss: 1.4405 - val_accuracy: 0.7500\n",
            "Epoch 192/300\n",
            "10/10 [==============================] - 0s 26ms/step - loss: 1.2258e-05 - accuracy: 1.0000 - val_loss: 1.4421 - val_accuracy: 0.7625\n",
            "Epoch 193/300\n",
            "10/10 [==============================] - 0s 24ms/step - loss: 1.3516e-05 - accuracy: 1.0000 - val_loss: 1.4437 - val_accuracy: 0.7625\n",
            "Epoch 194/300\n",
            "10/10 [==============================] - 0s 26ms/step - loss: 9.9226e-06 - accuracy: 1.0000 - val_loss: 1.4452 - val_accuracy: 0.7625\n",
            "Epoch 195/300\n",
            "10/10 [==============================] - 0s 26ms/step - loss: 1.2177e-05 - accuracy: 1.0000 - val_loss: 1.4467 - val_accuracy: 0.7625\n",
            "Epoch 196/300\n",
            "10/10 [==============================] - 0s 26ms/step - loss: 1.0944e-05 - accuracy: 1.0000 - val_loss: 1.4480 - val_accuracy: 0.7625\n",
            "Epoch 197/300\n",
            "10/10 [==============================] - 0s 25ms/step - loss: 9.5529e-06 - accuracy: 1.0000 - val_loss: 1.4495 - val_accuracy: 0.7625\n",
            "Epoch 198/300\n",
            "10/10 [==============================] - 0s 26ms/step - loss: 1.1585e-05 - accuracy: 1.0000 - val_loss: 1.4510 - val_accuracy: 0.7625\n",
            "Epoch 199/300\n",
            "10/10 [==============================] - 0s 25ms/step - loss: 1.2771e-05 - accuracy: 1.0000 - val_loss: 1.4525 - val_accuracy: 0.7625\n",
            "Epoch 200/300\n",
            "10/10 [==============================] - 0s 25ms/step - loss: 1.2080e-05 - accuracy: 1.0000 - val_loss: 1.4539 - val_accuracy: 0.7625\n",
            "Epoch 201/300\n",
            "10/10 [==============================] - 0s 25ms/step - loss: 1.0528e-05 - accuracy: 1.0000 - val_loss: 1.4554 - val_accuracy: 0.7625\n",
            "Epoch 202/300\n",
            "10/10 [==============================] - 0s 26ms/step - loss: 1.2631e-05 - accuracy: 1.0000 - val_loss: 1.4567 - val_accuracy: 0.7625\n",
            "Epoch 203/300\n",
            "10/10 [==============================] - 0s 26ms/step - loss: 1.0590e-05 - accuracy: 1.0000 - val_loss: 1.4582 - val_accuracy: 0.7625\n",
            "Epoch 204/300\n",
            "10/10 [==============================] - 0s 26ms/step - loss: 1.0144e-05 - accuracy: 1.0000 - val_loss: 1.4596 - val_accuracy: 0.7625\n",
            "Epoch 205/300\n",
            "10/10 [==============================] - 0s 25ms/step - loss: 1.0011e-05 - accuracy: 1.0000 - val_loss: 1.4610 - val_accuracy: 0.7625\n",
            "Epoch 206/300\n",
            "10/10 [==============================] - 0s 27ms/step - loss: 9.3689e-06 - accuracy: 1.0000 - val_loss: 1.4624 - val_accuracy: 0.7625\n",
            "Epoch 207/300\n",
            "10/10 [==============================] - 0s 25ms/step - loss: 1.2425e-05 - accuracy: 1.0000 - val_loss: 1.4638 - val_accuracy: 0.7625\n",
            "Epoch 208/300\n",
            "10/10 [==============================] - 0s 25ms/step - loss: 8.6670e-06 - accuracy: 1.0000 - val_loss: 1.4652 - val_accuracy: 0.7625\n",
            "Epoch 209/300\n",
            "10/10 [==============================] - 0s 25ms/step - loss: 9.1837e-06 - accuracy: 1.0000 - val_loss: 1.4665 - val_accuracy: 0.7625\n",
            "Epoch 210/300\n",
            "10/10 [==============================] - 0s 25ms/step - loss: 8.0507e-06 - accuracy: 1.0000 - val_loss: 1.4679 - val_accuracy: 0.7625\n",
            "Epoch 211/300\n",
            "10/10 [==============================] - 0s 27ms/step - loss: 8.5847e-06 - accuracy: 1.0000 - val_loss: 1.4692 - val_accuracy: 0.7625\n",
            "Epoch 212/300\n",
            "10/10 [==============================] - 0s 26ms/step - loss: 8.9156e-06 - accuracy: 1.0000 - val_loss: 1.4706 - val_accuracy: 0.7625\n",
            "Epoch 213/300\n",
            "10/10 [==============================] - 0s 26ms/step - loss: 8.2033e-06 - accuracy: 1.0000 - val_loss: 1.4719 - val_accuracy: 0.7625\n",
            "Epoch 214/300\n",
            "10/10 [==============================] - 0s 24ms/step - loss: 9.7951e-06 - accuracy: 1.0000 - val_loss: 1.4732 - val_accuracy: 0.7625\n",
            "Epoch 215/300\n",
            "10/10 [==============================] - 0s 25ms/step - loss: 1.1675e-05 - accuracy: 1.0000 - val_loss: 1.4746 - val_accuracy: 0.7625\n",
            "Epoch 216/300\n",
            "10/10 [==============================] - 0s 25ms/step - loss: 9.5136e-06 - accuracy: 1.0000 - val_loss: 1.4759 - val_accuracy: 0.7625\n",
            "Epoch 217/300\n",
            "10/10 [==============================] - 0s 26ms/step - loss: 8.9218e-06 - accuracy: 1.0000 - val_loss: 1.4773 - val_accuracy: 0.7625\n",
            "Epoch 218/300\n",
            "10/10 [==============================] - 0s 25ms/step - loss: 8.8575e-06 - accuracy: 1.0000 - val_loss: 1.4785 - val_accuracy: 0.7625\n",
            "Epoch 219/300\n",
            "10/10 [==============================] - 0s 25ms/step - loss: 1.0788e-05 - accuracy: 1.0000 - val_loss: 1.4799 - val_accuracy: 0.7625\n",
            "Epoch 220/300\n",
            "10/10 [==============================] - 0s 26ms/step - loss: 7.6323e-06 - accuracy: 1.0000 - val_loss: 1.4812 - val_accuracy: 0.7625\n",
            "Epoch 221/300\n",
            "10/10 [==============================] - 0s 25ms/step - loss: 7.0753e-06 - accuracy: 1.0000 - val_loss: 1.4826 - val_accuracy: 0.7500\n",
            "Epoch 222/300\n",
            "10/10 [==============================] - 0s 26ms/step - loss: 8.5322e-06 - accuracy: 1.0000 - val_loss: 1.4838 - val_accuracy: 0.7625\n",
            "Epoch 223/300\n",
            "10/10 [==============================] - 0s 29ms/step - loss: 8.5003e-06 - accuracy: 1.0000 - val_loss: 1.4851 - val_accuracy: 0.7500\n",
            "Epoch 224/300\n",
            "10/10 [==============================] - 0s 26ms/step - loss: 9.0021e-06 - accuracy: 1.0000 - val_loss: 1.4864 - val_accuracy: 0.7625\n",
            "Epoch 225/300\n",
            "10/10 [==============================] - 0s 27ms/step - loss: 1.0443e-05 - accuracy: 1.0000 - val_loss: 1.4877 - val_accuracy: 0.7625\n",
            "Epoch 226/300\n",
            "10/10 [==============================] - 0s 26ms/step - loss: 6.7686e-06 - accuracy: 1.0000 - val_loss: 1.4889 - val_accuracy: 0.7625\n",
            "Epoch 227/300\n",
            "10/10 [==============================] - 0s 26ms/step - loss: 8.1567e-06 - accuracy: 1.0000 - val_loss: 1.4902 - val_accuracy: 0.7625\n",
            "Epoch 228/300\n",
            "10/10 [==============================] - 0s 26ms/step - loss: 6.4167e-06 - accuracy: 1.0000 - val_loss: 1.4915 - val_accuracy: 0.7625\n",
            "Epoch 229/300\n",
            "10/10 [==============================] - 0s 26ms/step - loss: 1.0406e-05 - accuracy: 1.0000 - val_loss: 1.4927 - val_accuracy: 0.7500\n",
            "Epoch 230/300\n",
            "10/10 [==============================] - 0s 25ms/step - loss: 9.9373e-06 - accuracy: 1.0000 - val_loss: 1.4940 - val_accuracy: 0.7625\n",
            "Epoch 231/300\n",
            "10/10 [==============================] - 0s 26ms/step - loss: 6.7235e-06 - accuracy: 1.0000 - val_loss: 1.4952 - val_accuracy: 0.7500\n",
            "Epoch 232/300\n",
            "10/10 [==============================] - 0s 26ms/step - loss: 7.1719e-06 - accuracy: 1.0000 - val_loss: 1.4964 - val_accuracy: 0.7500\n",
            "Epoch 233/300\n",
            "10/10 [==============================] - 0s 26ms/step - loss: 7.0152e-06 - accuracy: 1.0000 - val_loss: 1.4977 - val_accuracy: 0.7500\n",
            "Epoch 234/300\n",
            "10/10 [==============================] - 0s 26ms/step - loss: 6.2680e-06 - accuracy: 1.0000 - val_loss: 1.4989 - val_accuracy: 0.7500\n",
            "Epoch 235/300\n",
            "10/10 [==============================] - 0s 26ms/step - loss: 7.6667e-06 - accuracy: 1.0000 - val_loss: 1.5001 - val_accuracy: 0.7500\n",
            "Epoch 236/300\n",
            "10/10 [==============================] - 0s 25ms/step - loss: 6.8300e-06 - accuracy: 1.0000 - val_loss: 1.5014 - val_accuracy: 0.7500\n",
            "Epoch 237/300\n",
            "10/10 [==============================] - 0s 26ms/step - loss: 7.5936e-06 - accuracy: 1.0000 - val_loss: 1.5026 - val_accuracy: 0.7500\n",
            "Epoch 238/300\n",
            "10/10 [==============================] - 0s 26ms/step - loss: 7.8790e-06 - accuracy: 1.0000 - val_loss: 1.5037 - val_accuracy: 0.7500\n",
            "Epoch 239/300\n",
            "10/10 [==============================] - 0s 25ms/step - loss: 6.7319e-06 - accuracy: 1.0000 - val_loss: 1.5049 - val_accuracy: 0.7500\n",
            "Epoch 240/300\n",
            "10/10 [==============================] - 0s 25ms/step - loss: 8.7024e-06 - accuracy: 1.0000 - val_loss: 1.5062 - val_accuracy: 0.7500\n",
            "Epoch 241/300\n",
            "10/10 [==============================] - 0s 29ms/step - loss: 7.6088e-06 - accuracy: 1.0000 - val_loss: 1.5074 - val_accuracy: 0.7500\n",
            "Epoch 242/300\n",
            "10/10 [==============================] - 0s 25ms/step - loss: 8.3958e-06 - accuracy: 1.0000 - val_loss: 1.5086 - val_accuracy: 0.7500\n",
            "Epoch 243/300\n",
            "10/10 [==============================] - 0s 25ms/step - loss: 8.0635e-06 - accuracy: 1.0000 - val_loss: 1.5098 - val_accuracy: 0.7500\n",
            "Epoch 244/300\n",
            "10/10 [==============================] - 0s 25ms/step - loss: 6.7786e-06 - accuracy: 1.0000 - val_loss: 1.5109 - val_accuracy: 0.7500\n",
            "Epoch 245/300\n",
            "10/10 [==============================] - 0s 27ms/step - loss: 6.0390e-06 - accuracy: 1.0000 - val_loss: 1.5121 - val_accuracy: 0.7500\n",
            "Epoch 246/300\n",
            "10/10 [==============================] - 0s 26ms/step - loss: 5.3794e-06 - accuracy: 1.0000 - val_loss: 1.5133 - val_accuracy: 0.7500\n",
            "Epoch 247/300\n",
            "10/10 [==============================] - 0s 26ms/step - loss: 5.4126e-06 - accuracy: 1.0000 - val_loss: 1.5144 - val_accuracy: 0.7500\n",
            "Epoch 248/300\n",
            "10/10 [==============================] - 0s 27ms/step - loss: 6.0150e-06 - accuracy: 1.0000 - val_loss: 1.5156 - val_accuracy: 0.7500\n",
            "Epoch 249/300\n",
            "10/10 [==============================] - 0s 26ms/step - loss: 6.1467e-06 - accuracy: 1.0000 - val_loss: 1.5168 - val_accuracy: 0.7500\n",
            "Epoch 250/300\n",
            "10/10 [==============================] - 0s 25ms/step - loss: 6.1419e-06 - accuracy: 1.0000 - val_loss: 1.5180 - val_accuracy: 0.7500\n",
            "Epoch 251/300\n",
            "10/10 [==============================] - 0s 25ms/step - loss: 5.9886e-06 - accuracy: 1.0000 - val_loss: 1.5191 - val_accuracy: 0.7500\n",
            "Epoch 252/300\n",
            "10/10 [==============================] - 0s 26ms/step - loss: 7.8343e-06 - accuracy: 1.0000 - val_loss: 1.5203 - val_accuracy: 0.7500\n",
            "Epoch 253/300\n",
            "10/10 [==============================] - 0s 27ms/step - loss: 6.7390e-06 - accuracy: 1.0000 - val_loss: 1.5214 - val_accuracy: 0.7500\n",
            "Epoch 254/300\n",
            "10/10 [==============================] - 0s 26ms/step - loss: 5.7153e-06 - accuracy: 1.0000 - val_loss: 1.5225 - val_accuracy: 0.7500\n",
            "Epoch 255/300\n",
            "10/10 [==============================] - 0s 28ms/step - loss: 5.8744e-06 - accuracy: 1.0000 - val_loss: 1.5236 - val_accuracy: 0.7500\n",
            "Epoch 256/300\n",
            "10/10 [==============================] - 0s 26ms/step - loss: 7.9370e-06 - accuracy: 1.0000 - val_loss: 1.5250 - val_accuracy: 0.7500\n",
            "Epoch 257/300\n",
            "10/10 [==============================] - 0s 26ms/step - loss: 5.9354e-06 - accuracy: 1.0000 - val_loss: 1.5260 - val_accuracy: 0.7500\n",
            "Epoch 258/300\n",
            "10/10 [==============================] - 0s 24ms/step - loss: 6.2868e-06 - accuracy: 1.0000 - val_loss: 1.5271 - val_accuracy: 0.7500\n",
            "Epoch 259/300\n",
            "10/10 [==============================] - 0s 25ms/step - loss: 5.5359e-06 - accuracy: 1.0000 - val_loss: 1.5282 - val_accuracy: 0.7500\n",
            "Epoch 260/300\n",
            "10/10 [==============================] - 0s 25ms/step - loss: 5.0657e-06 - accuracy: 1.0000 - val_loss: 1.5294 - val_accuracy: 0.7500\n",
            "Epoch 261/300\n",
            "10/10 [==============================] - 0s 26ms/step - loss: 6.1454e-06 - accuracy: 1.0000 - val_loss: 1.5304 - val_accuracy: 0.7500\n",
            "Epoch 262/300\n",
            "10/10 [==============================] - 0s 29ms/step - loss: 5.3882e-06 - accuracy: 1.0000 - val_loss: 1.5316 - val_accuracy: 0.7500\n",
            "Epoch 263/300\n",
            "10/10 [==============================] - 0s 27ms/step - loss: 5.4465e-06 - accuracy: 1.0000 - val_loss: 1.5327 - val_accuracy: 0.7500\n",
            "Epoch 264/300\n",
            "10/10 [==============================] - 0s 26ms/step - loss: 7.4109e-06 - accuracy: 1.0000 - val_loss: 1.5338 - val_accuracy: 0.7500\n",
            "Epoch 265/300\n",
            "10/10 [==============================] - 0s 26ms/step - loss: 6.3427e-06 - accuracy: 1.0000 - val_loss: 1.5348 - val_accuracy: 0.7500\n",
            "Epoch 266/300\n",
            "10/10 [==============================] - 0s 25ms/step - loss: 4.6041e-06 - accuracy: 1.0000 - val_loss: 1.5359 - val_accuracy: 0.7500\n",
            "Epoch 267/300\n",
            "10/10 [==============================] - 0s 24ms/step - loss: 5.5054e-06 - accuracy: 1.0000 - val_loss: 1.5371 - val_accuracy: 0.7500\n",
            "Epoch 268/300\n",
            "10/10 [==============================] - 0s 27ms/step - loss: 4.6632e-06 - accuracy: 1.0000 - val_loss: 1.5383 - val_accuracy: 0.7500\n",
            "Epoch 269/300\n",
            "10/10 [==============================] - 0s 27ms/step - loss: 6.1990e-06 - accuracy: 1.0000 - val_loss: 1.5394 - val_accuracy: 0.7500\n",
            "Epoch 270/300\n",
            "10/10 [==============================] - 0s 26ms/step - loss: 4.8334e-06 - accuracy: 1.0000 - val_loss: 1.5404 - val_accuracy: 0.7500\n",
            "Epoch 271/300\n",
            "10/10 [==============================] - 0s 26ms/step - loss: 5.5284e-06 - accuracy: 1.0000 - val_loss: 1.5415 - val_accuracy: 0.7500\n",
            "Epoch 272/300\n",
            "10/10 [==============================] - 0s 27ms/step - loss: 5.4808e-06 - accuracy: 1.0000 - val_loss: 1.5427 - val_accuracy: 0.7500\n",
            "Epoch 273/300\n",
            "10/10 [==============================] - 0s 25ms/step - loss: 5.7977e-06 - accuracy: 1.0000 - val_loss: 1.5436 - val_accuracy: 0.7500\n",
            "Epoch 274/300\n",
            "10/10 [==============================] - 0s 26ms/step - loss: 4.8576e-06 - accuracy: 1.0000 - val_loss: 1.5447 - val_accuracy: 0.7500\n",
            "Epoch 275/300\n",
            "10/10 [==============================] - 0s 26ms/step - loss: 4.6214e-06 - accuracy: 1.0000 - val_loss: 1.5458 - val_accuracy: 0.7500\n",
            "Epoch 276/300\n",
            "10/10 [==============================] - 0s 27ms/step - loss: 4.3284e-06 - accuracy: 1.0000 - val_loss: 1.5468 - val_accuracy: 0.7500\n",
            "Epoch 277/300\n",
            "10/10 [==============================] - 0s 26ms/step - loss: 4.9588e-06 - accuracy: 1.0000 - val_loss: 1.5479 - val_accuracy: 0.7500\n",
            "Epoch 278/300\n",
            "10/10 [==============================] - 0s 26ms/step - loss: 4.5838e-06 - accuracy: 1.0000 - val_loss: 1.5491 - val_accuracy: 0.7500\n",
            "Epoch 279/300\n",
            "10/10 [==============================] - 0s 26ms/step - loss: 4.7875e-06 - accuracy: 1.0000 - val_loss: 1.5501 - val_accuracy: 0.7500\n",
            "Epoch 280/300\n",
            "10/10 [==============================] - 0s 26ms/step - loss: 4.7657e-06 - accuracy: 1.0000 - val_loss: 1.5512 - val_accuracy: 0.7500\n",
            "Epoch 281/300\n",
            "10/10 [==============================] - 0s 26ms/step - loss: 4.5056e-06 - accuracy: 1.0000 - val_loss: 1.5521 - val_accuracy: 0.7500\n",
            "Epoch 282/300\n",
            "10/10 [==============================] - 0s 25ms/step - loss: 5.2700e-06 - accuracy: 1.0000 - val_loss: 1.5534 - val_accuracy: 0.7500\n",
            "Epoch 283/300\n",
            "10/10 [==============================] - 0s 26ms/step - loss: 5.4927e-06 - accuracy: 1.0000 - val_loss: 1.5543 - val_accuracy: 0.7500\n",
            "Epoch 284/300\n",
            "10/10 [==============================] - 0s 26ms/step - loss: 4.5795e-06 - accuracy: 1.0000 - val_loss: 1.5553 - val_accuracy: 0.7500\n",
            "Epoch 285/300\n",
            "10/10 [==============================] - 0s 26ms/step - loss: 5.8128e-06 - accuracy: 1.0000 - val_loss: 1.5564 - val_accuracy: 0.7500\n",
            "Epoch 286/300\n",
            "10/10 [==============================] - 0s 25ms/step - loss: 4.5840e-06 - accuracy: 1.0000 - val_loss: 1.5574 - val_accuracy: 0.7500\n",
            "Epoch 287/300\n",
            "10/10 [==============================] - 0s 26ms/step - loss: 5.1946e-06 - accuracy: 1.0000 - val_loss: 1.5584 - val_accuracy: 0.7500\n",
            "Epoch 288/300\n",
            "10/10 [==============================] - 0s 28ms/step - loss: 4.5599e-06 - accuracy: 1.0000 - val_loss: 1.5596 - val_accuracy: 0.7500\n",
            "Epoch 289/300\n",
            "10/10 [==============================] - 0s 27ms/step - loss: 4.3184e-06 - accuracy: 1.0000 - val_loss: 1.5606 - val_accuracy: 0.7500\n",
            "Epoch 290/300\n",
            "10/10 [==============================] - 0s 28ms/step - loss: 3.7977e-06 - accuracy: 1.0000 - val_loss: 1.5618 - val_accuracy: 0.7500\n",
            "Epoch 291/300\n",
            "10/10 [==============================] - 0s 27ms/step - loss: 4.4881e-06 - accuracy: 1.0000 - val_loss: 1.5628 - val_accuracy: 0.7500\n",
            "Epoch 292/300\n",
            "10/10 [==============================] - 0s 26ms/step - loss: 4.0714e-06 - accuracy: 1.0000 - val_loss: 1.5637 - val_accuracy: 0.7500\n",
            "Epoch 293/300\n",
            "10/10 [==============================] - 0s 27ms/step - loss: 5.3293e-06 - accuracy: 1.0000 - val_loss: 1.5647 - val_accuracy: 0.7500\n",
            "Epoch 294/300\n",
            "10/10 [==============================] - 0s 26ms/step - loss: 4.0332e-06 - accuracy: 1.0000 - val_loss: 1.5657 - val_accuracy: 0.7500\n",
            "Epoch 295/300\n",
            "10/10 [==============================] - 0s 27ms/step - loss: 5.5228e-06 - accuracy: 1.0000 - val_loss: 1.5668 - val_accuracy: 0.7500\n",
            "Epoch 296/300\n",
            "10/10 [==============================] - 0s 27ms/step - loss: 4.9537e-06 - accuracy: 1.0000 - val_loss: 1.5677 - val_accuracy: 0.7500\n",
            "Epoch 297/300\n",
            "10/10 [==============================] - 0s 26ms/step - loss: 4.1853e-06 - accuracy: 1.0000 - val_loss: 1.5688 - val_accuracy: 0.7500\n",
            "Epoch 298/300\n",
            "10/10 [==============================] - 0s 26ms/step - loss: 4.1664e-06 - accuracy: 1.0000 - val_loss: 1.5699 - val_accuracy: 0.7500\n",
            "Epoch 299/300\n",
            "10/10 [==============================] - 0s 28ms/step - loss: 5.7224e-06 - accuracy: 1.0000 - val_loss: 1.5708 - val_accuracy: 0.7500\n",
            "Epoch 300/300\n",
            "10/10 [==============================] - 0s 26ms/step - loss: 4.0404e-06 - accuracy: 1.0000 - val_loss: 1.5720 - val_accuracy: 0.7500\n"
          ],
          "name": "stdout"
        }
      ]
    },
    {
      "cell_type": "code",
      "metadata": {
        "id": "fVNE37X9CXyH"
      },
      "source": [
        "Y_pred_ann = model_ann.predict(X_test)"
      ],
      "execution_count": null,
      "outputs": []
    },
    {
      "cell_type": "code",
      "metadata": {
        "colab": {
          "base_uri": "https://localhost:8080/"
        },
        "id": "FQCoMsktCGmA",
        "outputId": "c48e8b91-d88f-4ede-ce06-390768e9d38e"
      },
      "source": [
        "print(\"accuracy: \",metrics.accuracy_score(Y_test, Y_pred_ann.round())*100)\n",
        "print(\"precison: \",metrics.precision_score(Y_test, Y_pred_ann.round()))\n",
        "print(\"recall: \",metrics.recall_score(Y_test, Y_pred_ann.round()))\n",
        "print(\"roc: \",metrics.roc_auc_score(Y_test, Y_pred_ann.round()))\n",
        "print(\"f1 score: \",metrics.f1_score(Y_test, Y_pred_ann.round()))"
      ],
      "execution_count": null,
      "outputs": [
        {
          "output_type": "stream",
          "text": [
            "accuracy:  74.0\n",
            "precison:  0.7916666666666666\n",
            "recall:  0.7037037037037037\n",
            "roc:  0.7431561996779389\n",
            "f1 score:  0.7450980392156864\n"
          ],
          "name": "stdout"
        }
      ]
    },
    {
      "cell_type": "code",
      "metadata": {
        "id": "z176sJ-66Hz3",
        "colab": {
          "base_uri": "https://localhost:8080/",
          "height": 435
        },
        "outputId": "05f3c00a-d1f8-4067-bf4c-71d71014f857"
      },
      "source": [
        "acc = history.history['accuracy']\n",
        "val_acc = history.history['val_accuracy']\n",
        "loss = history.history['loss']\n",
        "val_loss = history.history['val_loss']\n",
        "\n",
        "epochs_range = range(300)\n",
        "\n",
        "plt.figure(figsize=(15, 15))\n",
        "plt.subplot(2, 2, 1)\n",
        "plt.plot(epochs_range, acc, label='Training Accuracy')\n",
        "plt.plot(epochs_range, val_acc, label='Validation Accuracy')\n",
        "plt.legend(loc='lower right')\n",
        "plt.title('Training and Validation Accuracy')\n",
        "\n",
        "plt.subplot(2, 2, 2)\n",
        "plt.plot(epochs_range, loss, label='Training Loss')\n",
        "plt.plot(epochs_range, val_loss, label='Validation Loss')\n",
        "plt.legend(loc='upper right')\n",
        "plt.title('Training and Validation Loss')\n",
        "plt.show()"
      ],
      "execution_count": null,
      "outputs": [
        {
          "output_type": "display_data",
          "data": {
            "image/png": "[encoded data removed]",
            "text/plain": [
              "<Figure size 1080x1080 with 2 Axes>"
            ]
          },
          "metadata": {
            "tags": [],
            "needs_background": "light"
          }
        }
      ]
    },
    {
      "cell_type": "code",
      "metadata": {
        "id": "-T8mq9IbNvZM",
        "colab": {
          "base_uri": "https://localhost:8080/"
        },
        "outputId": "881a00ac-b517-4cc4-8a16-06fdeab7dcaa"
      },
      "source": [
        "string = input(\"Enter the string: \")\n",
        "sum = 0\n",
        "for i in string:\n",
        "  if(i == 'a'):\n",
        "    sum += 1\n",
        "  if(i == 'e'):\n",
        "    sum += 2\n",
        "  if(i == 'i'):\n",
        "    sum += 3 \n",
        "  if(i == 'o'):\n",
        "    sum += 4\n",
        "  if(i == 'u'):\n",
        "    sum += 5 \n",
        "print(sum)"
      ],
      "execution_count": null,
      "outputs": [
        {
          "output_type": "stream",
          "text": [
            "Enter the string: Welcome to Indonesia\n",
            "22\n"
          ],
          "name": "stdout"
        }
      ]
    },
    {
      "cell_type": "code",
      "metadata": {
        "colab": {
          "base_uri": "https://localhost:8080/"
        },
        "id": "Xy4yUluazEBs",
        "outputId": "16ecce05-6141-4dad-edc5-57421a5d07c9"
      },
      "source": [
        "amount = input(\"Enter the amount: \")\n",
        "tax_percentage = input(\"Enter the tax percentage: \")\n",
        "tax_amount = int(amount) * (int(tax_percentage)/100)\n",
        "print(\"Tax amount in cents: \",tax_amount*100)"
      ],
      "execution_count": null,
      "outputs": [
        {
          "output_type": "stream",
          "text": [
            "Enter the amount: 100\n",
            "Enter the tax percentage: 30\n",
            "Tax amount in cents:  3000.0\n"
          ],
          "name": "stdout"
        }
      ]
    },
    {
      "cell_type": "code",
      "metadata": {
        "colab": {
          "base_uri": "https://localhost:8080/"
        },
        "id": "go-vsulikflK",
        "outputId": "26f6b5d0-7882-47c4-8c18-bb3ba47f81e8"
      },
      "source": [
        "def isVowel(character): # function to check whether input character is a vowel and assign value\n",
        "  if(i == 'a'):\n",
        "    return 1\n",
        "  if(i == 'e'):\n",
        "    return 2\n",
        "  if(i == 'i'):\n",
        "    return 3 \n",
        "  if(i == 'o'):\n",
        "    return 4\n",
        "  if(i == 'u'):\n",
        "    return 5\n",
        "\n",
        "def sum(string, n): # function that returns the count of vowels\n",
        "  if n == -1 :\t# Base Case\n",
        "\t  return isVowel(string[0]) \n",
        "  return sum(string, n - 1) + isVowel(string[n - 1]) # Recursive Call\n",
        "\n",
        "string = input(\"Enter the string: \")\n",
        "print(sum(string, len(string))) "
      ],
      "execution_count": null,
      "outputs": [
        {
          "output_type": "stream",
          "text": [
            "Enter the string: Welcome to Indonesia\n",
            "22\n"
          ],
          "name": "stdout"
        }
      ]
    },
    {
      "cell_type": "code",
      "metadata": {
        "id": "N_lOev-0xAji",
        "colab": {
          "base_uri": "https://localhost:8080/"
        },
        "outputId": "646597aa-ecd6-4385-f6e4-dd73cc2fbf58"
      },
      "source": [
        "import requests\n",
        "from bs4 import BeautifulSoup\n",
        " \n",
        "url = 'https://www.odoo.sh/faq'\n",
        "the_word = 'odoo.sh'\n",
        "r = requests.get(url, allow_redirects=False)\n",
        "soup = BeautifulSoup(r.content, 'lxml')\n",
        "words = soup.find(text=lambda text: text and the_word in text)\n",
        "print(words)\n",
        "count =  len(words)\n",
        "print('\\nUrl: {}\\ncontains {} occurrences of word: {}'.format(url, count, the_word))"
      ],
      "execution_count": null,
      "outputs": [
        {
          "output_type": "stream",
          "text": [
            "https://www.odoo.sh/project/<your_project>/settings\n",
            "\n",
            "Url: https://www.odoo.sh/faq\n",
            "contains 51 occurrences of word: odoo.sh\n"
          ],
          "name": "stdout"
        }
      ]
    },
    {
      "cell_type": "code",
      "metadata": {
        "id": "qx2VdW61BAIv"
      },
      "source": [
        ""
      ],
      "execution_count": null,
      "outputs": []
    }
  ]
}